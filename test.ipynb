{
 "cells": [
  {
   "cell_type": "code",
   "execution_count": 1,
   "metadata": {},
   "outputs": [
    {
     "name": "stderr",
     "output_type": "stream",
     "text": [
      "c:\\Users\\Home\\anaconda3\\envs\\spcopenai\\Lib\\site-packages\\tqdm\\auto.py:21: TqdmWarning: IProgress not found. Please update jupyter and ipywidgets. See https://ipywidgets.readthedocs.io/en/stable/user_install.html\n",
      "  from .autonotebook import tqdm as notebook_tqdm\n"
     ]
    }
   ],
   "source": [
    "import requests\n",
    "import dspy\n",
    "import os\n",
    "from dotenv import load_dotenv\n",
    "import json\n",
    "from openai import OpenAI"
   ]
  },
  {
   "cell_type": "code",
   "execution_count": 2,
   "metadata": {},
   "outputs": [],
   "source": [
    "load_dotenv()\n",
    "OPENAI_API_KEY = os.getenv(\"OPENAI_API_KEY\")\n",
    "OPENROUTER_API_KEY = os.getenv(\"OPENROUTER_API_KEY\")\n",
    "gpt4 = dspy.OpenAI(model='gpt-4', api_key=OPENAI_API_KEY)\n",
    "dspy.configure(lm=gpt4)\n",
    "client = OpenAI()"
   ]
  },
  {
   "cell_type": "code",
   "execution_count": 43,
   "metadata": {},
   "outputs": [],
   "source": [
    "response = requests.post(\n",
    "  url=\"https://openrouter.ai/api/v1/chat/completions\",\n",
    "  headers={\n",
    "    \"Authorization\": f\"Bearer {OPENROUTER_API_KEY}\",\n",
    "  },\n",
    "  data=json.dumps({\n",
    "    \"model\": \"perplexity/sonar-small-chat\", # Optional\n",
    "    \"messages\": [\n",
    "      {\"role\": \"user\", \"content\": \"List 5 U.S stocks (and their tickers) trending today. They must be valid stocks.\"}\n",
    "    ]\n",
    "  })\n",
    ")"
   ]
  },
  {
   "cell_type": "code",
   "execution_count": 44,
   "metadata": {},
   "outputs": [
    {
     "data": {
      "text/plain": [
       "{'choices': [{'message': {'role': 'assistant',\n",
       "    'content': \"1. Amazon (AMZN) - The largest online retailer is currently trending, with its knee-jerk response to counterfeit merchandise impacting sales for various third-party sellers on the platform, resulting in a temporary slowdown in earnings.\\n\\n2. Tesla, Inc. (TSLA) - Tesla is currently relevant due to regulatory board meetings occurring during the first week of Tesla's Q4 earnings report. The conversion from a Kal-El to True Quantum computer may delay production, and the price of Tesla stock fell after reports of Elon Musk's divestment from his stake in Bitcoin and his plan to invest in Dogecoin.\\n\\n3. GameStop (GME) - GameStop, a video game retailer, has recently been trending due to its involvement in a short squeeze caused by the subreddit r/WallStreetBets. The stock price soared in the past week, and the company is now exploring the possibility of spinning off its bookstore chain, GameStop Education.\\n\\n4. NIO (NIO) - NIO, a leading electric vehicle company, is trending after news broke that the company plans to list on the Netherlands bourse in a reverse merger within the next two months. Additionally, NIO recently reported its earnings for Q4 2020, with sales and deliveries in the quarter increasing by 95.3% from Q4 2019.\\n\\n5. Airbnb (ABNB) - Airbnb is currently trending after its CEO, Brian Chesky, sent a letter to the company's hosts earlier today. The letter spread around the internet at first, with many online communities tweeting about exceptional deliveries they received from Airbnb. Chesky mentioned an issue caused by pests, which has led Airbnb to reach out to many of its hosts.\"},\n",
       "   'finish_reason': 'stop'}],\n",
       " 'model': 'perplexity/sonar-small-chat',\n",
       " 'id': 'gen-aGPC91zaolk7o2TGiToXIVjLm4Fn',\n",
       " 'object': 'chat.completion',\n",
       " 'created': 1709758851,\n",
       " 'usage': {'prompt_tokens': 31, 'completion_tokens': 407, 'total_tokens': 438}}"
      ]
     },
     "execution_count": 44,
     "metadata": {},
     "output_type": "execute_result"
    }
   ],
   "source": [
    "response.json()"
   ]
  },
  {
   "cell_type": "code",
   "execution_count": 45,
   "metadata": {},
   "outputs": [
    {
     "data": {
      "text/plain": [
       "\"1. Amazon (AMZN) - The largest online retailer is currently trending, with its knee-jerk response to counterfeit merchandise impacting sales for various third-party sellers on the platform, resulting in a temporary slowdown in earnings.\\n\\n2. Tesla, Inc. (TSLA) - Tesla is currently relevant due to regulatory board meetings occurring during the first week of Tesla's Q4 earnings report. The conversion from a Kal-El to True Quantum computer may delay production, and the price of Tesla stock fell after reports of Elon Musk's divestment from his stake in Bitcoin and his plan to invest in Dogecoin.\\n\\n3. GameStop (GME) - GameStop, a video game retailer, has recently been trending due to its involvement in a short squeeze caused by the subreddit r/WallStreetBets. The stock price soared in the past week, and the company is now exploring the possibility of spinning off its bookstore chain, GameStop Education.\\n\\n4. NIO (NIO) - NIO, a leading electric vehicle company, is trending after news broke that the company plans to list on the Netherlands bourse in a reverse merger within the next two months. Additionally, NIO recently reported its earnings for Q4 2020, with sales and deliveries in the quarter increasing by 95.3% from Q4 2019.\\n\\n5. Airbnb (ABNB) - Airbnb is currently trending after its CEO, Brian Chesky, sent a letter to the company's hosts earlier today. The letter spread around the internet at first, with many online communities tweeting about exceptional deliveries they received from Airbnb. Chesky mentioned an issue caused by pests, which has led Airbnb to reach out to many of its hosts.\""
      ]
     },
     "execution_count": 45,
     "metadata": {},
     "output_type": "execute_result"
    }
   ],
   "source": [
    "text = response.json()[\"choices\"][0][\"message\"][\"content\"]\n",
    "text"
   ]
  },
  {
   "cell_type": "code",
   "execution_count": 49,
   "metadata": {},
   "outputs": [],
   "source": [
    "class DeriveStocks(dspy.Signature):\n",
    "    \"\"\"Given a message, derive the stocks and the tickers mentioned in the message.\n",
    "    If the ticker is not mentioned, the model will try to predict the ticker based on the stock name.\"\"\"\n",
    "\n",
    "    message = dspy.InputField()\n",
    "    stock1 = dspy.OutputField(desc=\"The first company name\")\n",
    "    ticker1 = dspy.OutputField(desc=\"The first company ticker\")\n",
    "    stock2 = dspy.OutputField(desc=\"The second company name\")\n",
    "    ticker2 = dspy.OutputField(desc=\"The second company ticker\")\n",
    "    stock3 = dspy.OutputField(desc=\"The third company name\")\n",
    "    ticker3 = dspy.OutputField(desc=\"The third company ticker\")\n",
    "    stock4 = dspy.OutputField(desc=\"The fourth company name\")\n",
    "    ticker4 = dspy.OutputField(desc=\"The fourth company ticker\")\n",
    "    stock5 = dspy.OutputField(desc=\"The fifth company name\")\n",
    "    ticker5 = dspy.OutputField(desc=\"The fifth company ticker\")"
   ]
  },
  {
   "cell_type": "code",
   "execution_count": 50,
   "metadata": {},
   "outputs": [
    {
     "data": {
      "text/plain": [
       "Prediction(\n",
       "    stock1='Amazon',\n",
       "    ticker1='AMZN',\n",
       "    stock2='Tesla, Inc.',\n",
       "    ticker2='TSLA',\n",
       "    stock3='GameStop',\n",
       "    ticker3='GME',\n",
       "    stock4='NIO',\n",
       "    ticker4='NIO',\n",
       "    stock5='Airbnb',\n",
       "    ticker5='ABNB'\n",
       ")"
      ]
     },
     "execution_count": 50,
     "metadata": {},
     "output_type": "execute_result"
    }
   ],
   "source": [
    "stock_derive = dspy.Predict(DeriveStocks)\n",
    "answer = stock_derive(message=text)\n",
    "answer"
   ]
  },
  {
   "cell_type": "code",
   "execution_count": 53,
   "metadata": {},
   "outputs": [
    {
     "data": {
      "text/plain": [
       "{'stock1': 'Amazon',\n",
       " 'ticker1': 'AMZN',\n",
       " 'stock2': 'Tesla, Inc.',\n",
       " 'ticker2': 'TSLA',\n",
       " 'stock3': 'GameStop',\n",
       " 'ticker3': 'GME',\n",
       " 'stock4': 'NIO',\n",
       " 'ticker4': 'NIO',\n",
       " 'stock5': 'Airbnb',\n",
       " 'ticker5': 'ABNB'}"
      ]
     },
     "execution_count": 53,
     "metadata": {},
     "output_type": "execute_result"
    }
   ],
   "source": [
    "answer.toDict()"
   ]
  },
  {
   "cell_type": "code",
   "execution_count": 11,
   "metadata": {},
   "outputs": [],
   "source": [
    "class DeriveTicker(dspy.Signature):\n",
    "    \"\"\"Given a search query containing a company name or ticker, derive the proper stock market ticker for the intended company.\"\"\"\n",
    "\n",
    "    search_query = dspy.InputField()\n",
    "    ticker = dspy.OutputField(desc=\"The company ticker in one word, or N/A if the company is not found\")"
   ]
  },
  {
   "cell_type": "code",
   "execution_count": 14,
   "metadata": {},
   "outputs": [
    {
     "data": {
      "text/plain": [
       "Prediction(\n",
       "    ticker='N/A'\n",
       ")"
      ]
     },
     "execution_count": 14,
     "metadata": {},
     "output_type": "execute_result"
    }
   ],
   "source": [
    "stock_derive = dspy.Predict(DeriveTicker)\n",
    "answer = stock_derive(search_query=\"A not real company\")\n",
    "answer"
   ]
  },
  {
   "cell_type": "code",
   "execution_count": null,
   "metadata": {},
   "outputs": [],
   "source": []
  }
 ],
 "metadata": {
  "kernelspec": {
   "display_name": "tensorwave-backend",
   "language": "python",
   "name": "python3"
  },
  "language_info": {
   "codemirror_mode": {
    "name": "ipython",
    "version": 3
   },
   "file_extension": ".py",
   "mimetype": "text/x-python",
   "name": "python",
   "nbconvert_exporter": "python",
   "pygments_lexer": "ipython3",
   "version": "3.12.2"
  }
 },
 "nbformat": 4,
 "nbformat_minor": 2
}
